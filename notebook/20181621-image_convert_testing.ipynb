{
 "cells": [
  {
   "cell_type": "markdown",
   "metadata": {},
   "source": [
    "# Image Conver from color to grayscale test\n",
    "A quick intro to using the pre-trained model to detect and segment object of person."
   ]
  },
  {
   "cell_type": "code",
   "execution_count": 1,
   "metadata": {},
   "outputs": [
    {
     "name": "stderr",
     "output_type": "stream",
     "text": [
      "Using TensorFlow backend.\n"
     ]
    }
   ],
   "source": [
    "from os import path\n",
    "import sys\n",
    "import random\n",
    "import math\n",
    "\n",
    "import warnings\n",
    "warnings.filterwarnings('ignore')\n",
    "\n",
    "import SimpleITK as sitk\n",
    "import numpy as np\n",
    "import skimage.io\n",
    "import matplotlib\n",
    "import matplotlib.pyplot as plt\n",
    "import sys\n",
    "\n",
    "from keras.utils import print_summary\n",
    "# Add the ptdraft folder path to the sys.path list\n",
    "sys.path.append('../')\n",
    "\n",
    "import capsnet as modellib\n",
    "from data_helper import *\n",
    "from test import *\n",
    "from load_2D_data import *\n",
    "from PIL import Image\n",
    "\n",
    "%matplotlib inline \n",
    "\n",
    "# Root directory of the project\n",
    "ROOT_DIR = path.dirname(\"../\")\n",
    "DATA_DIR = path.join(ROOT_DIR, \"data\")\n",
    "\n",
    "# Directory to save logs and trained model\n",
    "MODEL_DIR = path.join(DATA_DIR, \"saved_models/segcapsr3/m1.hdf5\") # LUNA16\n",
    "\n",
    "# Local path to trained weights file\n",
    "COCO_MODEL_PATH = path.join(DATA_DIR, \"saved_models/segcapsr3/mc3.hdf5\") # MSCOCO17\n",
    "\n",
    "# Directory of images to run detection on\n",
    "IMAGE_DIR = path.join(DATA_DIR, \"imgs\")\n",
    "MASKS_DIR = path.join(DATA_DIR, \"masks\")"
   ]
  },
  {
   "cell_type": "code",
   "execution_count": null,
   "metadata": {},
   "outputs": [],
   "source": []
  },
  {
   "cell_type": "code",
   "execution_count": null,
   "metadata": {},
   "outputs": [],
   "source": []
  },
  {
   "cell_type": "markdown",
   "metadata": {},
   "source": [
    "## Read image\n",
    "\n"
   ]
  },
  {
   "cell_type": "code",
   "execution_count": 4,
   "metadata": {},
   "outputs": [
    {
     "name": "stdout",
     "output_type": "stream",
     "text": [
      "(512, 512)\n",
      "(512, 512, 1)\n"
     ]
    }
   ],
   "source": [
    "from datetime import datetime\n",
    "\n",
    "img_name = ['train15.png']\n",
    "output_array = None\n",
    "\n",
    "\n",
    "itk_img = sitk.ReadImage(join(IMAGE_DIR, img_name[0]))\n",
    "img = sitk.GetArrayFromImage(itk_img)\n",
    "\n",
    "# The source image should be 512X512 resolution.\n",
    "img = image_resize2square(img, IMAGE_SIZE)\n",
    "# TODO computing by color image\n",
    "#         img = img[:,:,:3] # Only get RGB channels. Remove alpha channel.\n",
    "# Translate the image to grayscale\n",
    "img2 = Image.fromarray(img).convert('L')\n",
    "# plt.imshow(img2)\n",
    "img2.show()\n",
    "img = np.array(Image.fromarray(img).convert('L'))  \n",
    "\n",
    "print(img.shape)\n",
    "img = img.reshape([img.shape[0], img.shape[1], 1])\n",
    "print(img.shape)\n",
    "Image.fromarray(img[:,:,0]).show()\n"
   ]
  },
  {
   "cell_type": "markdown",
   "metadata": {},
   "source": [
    "# Mask image testing\n",
    "\n"
   ]
  },
  {
   "cell_type": "code",
   "execution_count": 7,
   "metadata": {},
   "outputs": [
    {
     "name": "stdout",
     "output_type": "stream",
     "text": [
      "[[[0 0 0 0]\n",
      "  [0 0 0 0]\n",
      "  [0 0 0 0]\n",
      "  ...\n",
      "  [0 0 0 0]\n",
      "  [0 0 0 0]\n",
      "  [0 0 0 0]]\n",
      "\n",
      " [[0 0 0 0]\n",
      "  [0 0 0 0]\n",
      "  [0 0 0 0]\n",
      "  ...\n",
      "  [0 0 0 0]\n",
      "  [0 0 0 0]\n",
      "  [0 0 0 0]]\n",
      "\n",
      " [[0 0 0 0]\n",
      "  [0 0 0 0]\n",
      "  [0 0 0 0]\n",
      "  ...\n",
      "  [0 0 0 0]\n",
      "  [0 0 0 0]\n",
      "  [0 0 0 0]]\n",
      "\n",
      " ...\n",
      "\n",
      " [[0 0 0 0]\n",
      "  [0 0 0 0]\n",
      "  [0 0 0 0]\n",
      "  ...\n",
      "  [0 0 0 0]\n",
      "  [0 0 0 0]\n",
      "  [0 0 0 0]]\n",
      "\n",
      " [[0 0 0 0]\n",
      "  [0 0 0 0]\n",
      "  [0 0 0 0]\n",
      "  ...\n",
      "  [0 0 0 0]\n",
      "  [0 0 0 0]\n",
      "  [0 0 0 0]]\n",
      "\n",
      " [[0 0 0 0]\n",
      "  [0 0 0 0]\n",
      "  [0 0 0 0]\n",
      "  ...\n",
      "  [0 0 0 0]\n",
      "  [0 0 0 0]\n",
      "  [0 0 0 0]]]\n"
     ]
    }
   ],
   "source": [
    "itk_mask = sitk.ReadImage(join(MASKS_DIR, img_name[0]))\n",
    "mask = sitk.GetArrayFromImage(itk_mask)\n",
    "mask = image_resize2square(mask, IMAGE_SIZE)\n",
    "\n",
    "# print(mask)\n",
    "mask = change_background_color(mask, COCO_BACKGROUND, MASK_BACKGROUND) \n",
    "print(mask)\n",
    "img2 = Image.fromarray(mask)\n",
    "img2.show()\n",
    "\n",
    "# mask = np.array(Image.fromarray(mask).convert('L'))  \n",
    "#   mask = mask[:,:,:3] # Only get RGB channels. Remove alpha channel.      \n",
    "mask = mask[:,:,:1]\n",
    "\n",
    "mask[mask >= 1] = 1 # The mask. ie. class of Person\n",
    "mask[mask != 1] = 0 # Non Person / Background\n",
    "\n",
    "mask = mask.astype(np.uint8)\n"
   ]
  },
  {
   "cell_type": "code",
   "execution_count": null,
   "metadata": {},
   "outputs": [],
   "source": []
  },
  {
   "cell_type": "code",
   "execution_count": null,
   "metadata": {
    "scrolled": false
   },
   "outputs": [],
   "source": []
  },
  {
   "cell_type": "code",
   "execution_count": null,
   "metadata": {
    "collapsed": true
   },
   "outputs": [],
   "source": []
  }
 ],
 "metadata": {
  "kernelspec": {
   "display_name": "Python 3",
   "language": "python",
   "name": "python3"
  },
  "language_info": {
   "codemirror_mode": {
    "name": "ipython",
    "version": 3
   },
   "file_extension": ".py",
   "mimetype": "text/x-python",
   "name": "python",
   "nbconvert_exporter": "python",
   "pygments_lexer": "ipython3",
   "version": "3.6.4"
  }
 },
 "nbformat": 4,
 "nbformat_minor": 2
}
